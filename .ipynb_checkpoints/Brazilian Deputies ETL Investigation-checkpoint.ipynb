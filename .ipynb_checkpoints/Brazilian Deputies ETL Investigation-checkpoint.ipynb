{
 "cells": [
  {
   "cell_type": "code",
   "execution_count": 45,
   "metadata": {},
   "outputs": [],
   "source": [
    "import configparser\n",
    "import os\n",
    "import sys"
   ]
  },
  {
   "cell_type": "code",
   "execution_count": 46,
   "metadata": {},
   "outputs": [],
   "source": [
    "from pyspark.sql import SparkSession"
   ]
  },
  {
   "cell_type": "code",
   "execution_count": 47,
   "metadata": {},
   "outputs": [],
   "source": [
    "def create_spark_session():\n",
    "    spark = SparkSession \\\n",
    "        .builder \\\n",
    "        .config(\"spark.jars.packages\", \"org.apache.hadoop:hadoop-aws:2.7.0\") \\\n",
    "        .getOrCreate()\n",
    "    return spark"
   ]
  },
  {
   "cell_type": "code",
   "execution_count": 41,
   "metadata": {},
   "outputs": [],
   "source": [
    "def process_deputies_data(spark, input_data, output_data):\n",
    "    deputies_data = input_data + \"deputies_dataset.csv\"\n",
    "    df = spark.read.csv(deputies_data, header=True, inferSchema=True)\n",
    "    df.show(n=15)\n",
    "    \n",
    "    deputies_table = df.select('deputy_id', 'deputy_name').distinct()\n",
    "    deputies_table.show(n=5)\n",
    "    \n",
    "    deputies_table.write.mode('overwrite').parquet(output_data + 'deputies')\n"
   ]
  },
  {
   "cell_type": "code",
   "execution_count": 49,
   "metadata": {},
   "outputs": [],
   "source": [
    "def check_results(spark, output_data):\n",
    "    df = spark.read.parquet(output_data + 'users')\n",
    "    df.show(n=5)"
   ]
  },
  {
   "cell_type": "code",
   "execution_count": 44,
   "metadata": {},
   "outputs": [],
   "source": [
    "def main():\n",
    "    if len(sys.argv) == 3:\n",
    "        # aws cluster mode\n",
    "        input_data = sys.argv[1]\n",
    "        output_data = sys.argv[2]\n",
    "    else:\n",
    "        # local mode\n",
    "        config = configparser.ConfigParser()\n",
    "        config.read('./airflow_home/dl.cfg')\n",
    "\n",
    "        os.environ['AWS_ACCESS_KEY_ID'] = config['AWS']['AWS_ACCESS_KEY_ID']\n",
    "        os.environ['AWS_SECRET_ACCESS_KEY'] = config['AWS']['AWS_SECRET_ACCESS_KEY']\n",
    "\n",
    "        input_data = config['DATALAKE']['INPUT_DATA']\n",
    "        print(input_data)\n",
    "        output_data = './output'#config['DATALAKE']['OUTPUT_DATA']\n",
    "        spark = create_spark_session()\n",
    "\n",
    "        process_deputies_data(spark, input_data, output_data)"
   ]
  },
  {
   "cell_type": "code",
   "execution_count": 43,
   "metadata": {},
   "outputs": [
    {
     "name": "stdout",
     "output_type": "stream",
     "text": [
      "s3a://brazilian-deputies/\n",
      "+-----------+-------------------+---------+---------------+----------+------------------+------------------------------+--------------------+--------------------+-------------+\n",
      "|bugged_date|       receipt_date|deputy_id|political_party|state_code|       deputy_name|receipt_social_security_number| receipt_description|  establishment_name|receipt_value|\n",
      "+-----------+-------------------+---------+---------------+----------+------------------+------------------------------+--------------------+--------------------+-------------+\n",
      "|          0|2013-03-27 00:00:00|     1772|            PSB|        SP|Abelardo Camarinha|             3.530749000139E12|Fuels and lubrica...|AUTO POSTO 314 NO...|           70|\n",
      "|          0|2013-07-24 00:00:00|     1772|            PSB|        SP|Abelardo Camarinha|             8.202116000115E12|Fuels and lubrica...|AUTO POSTO AEROPO...|          104|\n",
      "|          0|2013-02-17 00:00:00|     1772|            PSB|        SP|Abelardo Camarinha|             8.202116000115E12|Fuels and lubrica...|AUTO POSTO AEROPO...|          100|\n",
      "|          0|2013-03-15 00:00:00|     1772|            PSB|        SP|Abelardo Camarinha|             8.202116000115E12|Fuels and lubrica...|AUTO POSTO AEROPO...|          100|\n",
      "|          0|2013-01-27 00:00:00|     1772|            PSB|        SP|Abelardo Camarinha|             8.202116000115E12|Fuels and lubrica...|AUTO POSTO AEROPO...|           77|\n",
      "|          0|2013-02-06 00:00:00|     1772|            PSB|        SP|Abelardo Camarinha|             8.202116000115E12|Fuels and lubrica...|AUTO POSTO AEROPO...|          131|\n",
      "|          0|2013-04-18 00:00:00|     1772|            PSB|        SP|Abelardo Camarinha|             6.143204000168E12|Fuels and lubrica...|AUTO POSTO AV ESM...|         2840|\n",
      "|          0|2013-05-14 00:00:00|     1772|            PSB|        SP|Abelardo Camarinha|             6.143204000168E12|Fuels and lubrica...|AUTO POSTO AV ESM...|         2517|\n",
      "|          0|2013-06-21 00:00:00|     1772|            PSB|        SP|Abelardo Camarinha|             6.143204000168E12|Fuels and lubrica...|AUTO POSTO AV ESM...|         2509|\n",
      "|          0|2013-07-20 00:00:00|     1772|            PSB|        SP|Abelardo Camarinha|             6.143204000168E12|Fuels and lubrica...|AUTO POSTO AV ESM...|         2720|\n",
      "|          0|2013-08-21 00:00:00|     1772|            PSB|        SP|Abelardo Camarinha|             6.143204000168E12|Fuels and lubrica...|AUTO POSTO AV ESM...|         2498|\n",
      "|          0|2013-10-25 00:00:00|     1772|            PSB|        SP|Abelardo Camarinha|             6.143204000168E12|Fuels and lubrica...|AUTO POSTO AV ESM...|         2701|\n",
      "|          0|2013-11-21 00:00:00|     1772|            PSB|        SP|Abelardo Camarinha|             6.143204000168E12|Fuels and lubrica...|AUTO POSTO AV ESM...|         2724|\n",
      "|          0|2013-12-12 00:00:00|     1772|            PSB|        SP|Abelardo Camarinha|             6.143204000168E12|Fuels and lubrica...|AUTO POSTO AV ESM...|         2110|\n",
      "|          0|2013-10-19 00:00:00|     1772|            PSB|        SP|Abelardo Camarinha|             6.143204000168E12|Fuels and lubrica...|AUTO POSTO AV ESM...|          126|\n",
      "+-----------+-------------------+---------+---------------+----------+------------------+------------------------------+--------------------+--------------------+-------------+\n",
      "only showing top 15 rows\n",
      "\n",
      "+---------+-------------------+\n",
      "|deputy_id|        deputy_name|\n",
      "+---------+-------------------+\n",
      "|      763|Jorge Tadeu Mudalen|\n",
      "|     2896|Capitão Fábio Abreu|\n",
      "|     3156|       André Amaral|\n",
      "|     1748|   André Figueiredo|\n",
      "|       47|    Asdrubal Bentes|\n",
      "+---------+-------------------+\n",
      "only showing top 5 rows\n",
      "\n"
     ]
    }
   ],
   "source": [
    "main()"
   ]
  },
  {
   "cell_type": "code",
   "execution_count": 52,
   "metadata": {},
   "outputs": [
    {
     "ename": "NameError",
     "evalue": "name 'users' is not defined",
     "output_type": "error",
     "traceback": [
      "\u001b[0;31m---------------------------------------------------------------------------\u001b[0m",
      "\u001b[0;31mNameError\u001b[0m                                 Traceback (most recent call last)",
      "\u001b[0;32m<ipython-input-52-7c2fcccf5f55>\u001b[0m in \u001b[0;36m<module>\u001b[0;34m()\u001b[0m\n\u001b[1;32m      1\u001b[0m \u001b[0moutput_data\u001b[0m \u001b[0;34m=\u001b[0m \u001b[0;34m'./output'\u001b[0m\u001b[0;31m#config['DATALAKE']['OUTPUT_DATA']\u001b[0m\u001b[0;34m\u001b[0m\u001b[0;34m\u001b[0m\u001b[0m\n\u001b[1;32m      2\u001b[0m \u001b[0mspark\u001b[0m \u001b[0;34m=\u001b[0m \u001b[0mcreate_spark_session\u001b[0m\u001b[0;34m(\u001b[0m\u001b[0;34m)\u001b[0m\u001b[0;34m\u001b[0m\u001b[0;34m\u001b[0m\u001b[0m\n\u001b[0;32m----> 3\u001b[0;31m \u001b[0mcheck_results\u001b[0m\u001b[0;34m(\u001b[0m\u001b[0mspark\u001b[0m\u001b[0;34m,\u001b[0m \u001b[0moutput_data\u001b[0m\u001b[0;34m)\u001b[0m\u001b[0;34m\u001b[0m\u001b[0;34m\u001b[0m\u001b[0m\n\u001b[0m",
      "\u001b[0;32m<ipython-input-49-1884280c0037>\u001b[0m in \u001b[0;36mcheck_results\u001b[0;34m(spark, output_data)\u001b[0m\n\u001b[1;32m      1\u001b[0m \u001b[0;32mdef\u001b[0m \u001b[0mcheck_results\u001b[0m\u001b[0;34m(\u001b[0m\u001b[0mspark\u001b[0m\u001b[0;34m,\u001b[0m \u001b[0moutput_data\u001b[0m\u001b[0;34m)\u001b[0m\u001b[0;34m:\u001b[0m\u001b[0;34m\u001b[0m\u001b[0;34m\u001b[0m\u001b[0m\n\u001b[0;32m----> 2\u001b[0;31m     \u001b[0mdf\u001b[0m \u001b[0;34m=\u001b[0m \u001b[0mspark\u001b[0m\u001b[0;34m.\u001b[0m\u001b[0mread\u001b[0m\u001b[0;34m.\u001b[0m\u001b[0mparquet\u001b[0m\u001b[0;34m(\u001b[0m\u001b[0moutput_data\u001b[0m \u001b[0;34m+\u001b[0m \u001b[0musers\u001b[0m\u001b[0;34m)\u001b[0m\u001b[0;34m\u001b[0m\u001b[0;34m\u001b[0m\u001b[0m\n\u001b[0m\u001b[1;32m      3\u001b[0m     \u001b[0mdf\u001b[0m\u001b[0;34m.\u001b[0m\u001b[0mshow\u001b[0m\u001b[0;34m(\u001b[0m\u001b[0mn\u001b[0m\u001b[0;34m=\u001b[0m\u001b[0;36m5\u001b[0m\u001b[0;34m)\u001b[0m\u001b[0;34m\u001b[0m\u001b[0;34m\u001b[0m\u001b[0m\n",
      "\u001b[0;31mNameError\u001b[0m: name 'users' is not defined"
     ]
    }
   ],
   "source": [
    "output_data = './output'#config['DATALAKE']['OUTPUT_DATA']\n",
    "spark = create_spark_session()\n",
    "check_results(spark, output_data)"
   ]
  },
  {
   "cell_type": "code",
   "execution_count": null,
   "metadata": {},
   "outputs": [],
   "source": []
  }
 ],
 "metadata": {
  "kernelspec": {
   "display_name": "Python 3",
   "language": "python",
   "name": "python3"
  },
  "language_info": {
   "codemirror_mode": {
    "name": "ipython",
    "version": 3
   },
   "file_extension": ".py",
   "mimetype": "text/x-python",
   "name": "python",
   "nbconvert_exporter": "python",
   "pygments_lexer": "ipython3",
   "version": "3.7.3"
  }
 },
 "nbformat": 4,
 "nbformat_minor": 2
}
